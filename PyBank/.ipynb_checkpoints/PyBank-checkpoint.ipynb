{
 "cells": [
  {
   "cell_type": "code",
   "execution_count": 6,
   "metadata": {},
   "outputs": [],
   "source": [
    "#importing necessary libraries\n",
    "import os\n",
    "import csv"
   ]
  },
  {
   "cell_type": "code",
   "execution_count": 7,
   "metadata": {},
   "outputs": [
    {
     "name": "stdout",
     "output_type": "stream",
     "text": [
      "<_csv.reader object at 0x0000019350F20C78>\n",
      "CSV Header: ['Date', 'Profit/Losses']\n"
     ]
    }
   ],
   "source": [
    "#defining file input name/location\n",
    "csvpath = os.path.join('Resources', 'budget_data.csv')\n",
    "\n",
    "#using CSV module to read file\n",
    "with open(csvpath, newline='') as csvfile:\n",
    "    csvreader = csv.reader(csvfile, delimiter=',')\n",
    "    print(csvreader)\n",
    "    csv_header = next(csvreader)\n",
    "    print(f\"CSV Header: {csv_header}\")\n",
    "    \n",
    "    #defining and initializing variables\n",
    "    totalMonths = 0\n",
    "    totalRevenue = 0\n",
    "    greatestProfit = 0\n",
    "    greatestProfitDate = \"\"\n",
    "    greatestLoss = 0\n",
    "    greatestLossDate = \"\"\n",
    "\n",
    "    #reading through each row in CSV,\n",
    "    for row in csvreader:\n",
    "        #add 1 to total month count\n",
    "        totalMonths += 1\n",
    "        #add value to net amount\n",
    "        totalRevenue += int(row[1])\n",
    "        \n",
    "        #if next row's revenue value is positive,\n",
    "        if (int(row[1]) > 0):\n",
    "            #compare it to the current greatest profit value, if greater,\n",
    "            if (int(row[1]) > greatestProfit):\n",
    "                #replace the greatest profit value and date\n",
    "                greatestProfitDate = row[0]\n",
    "                greatestProfit = int(row[1])\n",
    "        #if next row's revenue value is negative,\n",
    "        if (int(row[1]) < 0):\n",
    "            #compare it to the current greatest loss value, if less,\n",
    "            if (int(row[1]) < greatestLoss):\n",
    "                #replace the greatest loss value and date\n",
    "                greatestLossDate = row[0]\n",
    "                greatestLoss = int(row[1])"
   ]
  },
  {
   "cell_type": "code",
   "execution_count": 8,
   "metadata": {},
   "outputs": [
    {
     "name": "stdout",
     "output_type": "stream",
     "text": [
      "Financial Analysis\n",
      "----------------------------\n",
      "Total Months: 86\n",
      "Total: 38382578\n",
      "Greatest Increase in Profits: Feb-2012 ($1170593)\n",
      "Greatest Decrease in Profits: Sep-2013 ($-1196225)\n",
      "----------------------------\n"
     ]
    }
   ],
   "source": [
    "#output statements\n",
    "print(\"Financial Analysis\")\n",
    "print(\"----------------------------\")\n",
    "print(\"Total Months: \" + str(totalMonths))\n",
    "print(\"Total: \" + str(totalRevenue))\n",
    "print(\"Greatest Increase in Profits: \" + greatestProfitDate + \" ($\" + str(greatestProfit) + \")\")\n",
    "print(\"Greatest Decrease in Profits: \" + greatestLossDate + \" ($\" + str(greatestLoss) + \")\")\n",
    "print(\"----------------------------\")"
   ]
  },
  {
   "cell_type": "code",
   "execution_count": 9,
   "metadata": {},
   "outputs": [],
   "source": [
    "#defining output name/location\n",
    "output_path = os.path.join(os.getcwd(), \"output\", \"analysis.txt\")\n",
    "\n",
    "#using CSV module to write file\n",
    "with open(output_path, 'w', newline='') as csvfile:\n",
    "    csvwriter = csv.writer(csvfile, delimiter=',')\n",
    "    #write the first row (column headers)\n",
    "    csvwriter.writerow([\"Financial Analysis\"])\n",
    "    csvwriter.writerow([\"----------------------------\"])\n",
    "    csvwriter.writerow([\"Total Months: \" + str(totalMonths)])\n",
    "    csvwriter.writerow([\"Total: \" + str(totalRevenue)])\n",
    "    csvwriter.writerow([\"Greatest Increase in Profits: \" + greatestProfitDate + \" ($\" + str(greatestProfit) + \")\"])\n",
    "    csvwriter.writerow([\"Greatest Decrease in Profits: \" + greatestLossDate + \" ($\" + str(greatestLoss) + \")\"])\n",
    "    csvwriter.writerow([\"----------------------------\"])"
   ]
  },
  {
   "cell_type": "code",
   "execution_count": null,
   "metadata": {},
   "outputs": [],
   "source": []
  },
  {
   "cell_type": "code",
   "execution_count": null,
   "metadata": {},
   "outputs": [],
   "source": []
  },
  {
   "cell_type": "code",
   "execution_count": null,
   "metadata": {},
   "outputs": [],
   "source": []
  },
  {
   "cell_type": "code",
   "execution_count": null,
   "metadata": {},
   "outputs": [],
   "source": []
  }
 ],
 "metadata": {
  "kernelspec": {
   "display_name": "Python 3",
   "language": "python",
   "name": "python3"
  },
  "language_info": {
   "codemirror_mode": {
    "name": "ipython",
    "version": 3
   },
   "file_extension": ".py",
   "mimetype": "text/x-python",
   "name": "python",
   "nbconvert_exporter": "python",
   "pygments_lexer": "ipython3",
   "version": "3.7.0"
  }
 },
 "nbformat": 4,
 "nbformat_minor": 2
}
