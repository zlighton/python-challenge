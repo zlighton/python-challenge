{
 "cells": [
  {
   "cell_type": "code",
   "execution_count": 1,
   "metadata": {},
   "outputs": [],
   "source": [
    "#importing necessary libraries\n",
    "import os\n",
    "import csv"
   ]
  },
  {
   "cell_type": "code",
   "execution_count": null,
   "metadata": {},
   "outputs": [],
   "source": []
  },
  {
   "cell_type": "code",
   "execution_count": null,
   "metadata": {},
   "outputs": [],
   "source": [
    "#defining file input name/location\n",
    "csvpath = os.path.join('Resources', 'election_data_small.csv')\n",
    "#using CSV module to read file\n",
    "with open(csvpath, newline='') as csvfile:\n",
    "    csvreader = csv.reader(csvfile, delimiter=',')\n",
    "    print(csvreader)\n",
    "    csv_header = next(csvreader)\n",
    "    print(f\"CSV Header: {csv_header}\")\n",
    "    \n",
    "    #defining and initializing variables\n",
    "    totalVotes = 0\n",
    "    electionWinner = \"\"\n",
    "    \n",
    "    candidatesList = [\"\"]\n",
    "    votesList = [0]\n",
    "\n",
    "    for row in csvreader:    \n",
    "        for x in range(len(candidatesList)):\n",
    "            if x == len(candidatesList) - 1:\n",
    "                candidatesList.insert(0, row[2])\n",
    "                votesList.insert(0, 1)\n",
    "                totalVotes = (totalVotes + 1)\n",
    "                \n",
    "            elif row[2] == (x in candidatesList):\n",
    "                votesList[x] = (votesList[x] + 1)\n",
    "                totalVotes = (totalVotes + 1)\n",
    "\n",
    "        #output statements\n",
    "    print(\"Election Results\")\n",
    "    print(\"-------------------------\")\n",
    "    print(\"Total Votes: \" + str(totalVotes))\n",
    "    print(\"-------------------------\")\n",
    "    for x in range(len(candidatesList) - 1):\n",
    "        printf(str(candidatesList[x]) + \" received \" + str(votesList[x]) + \" votes. (\" + str(totalVotes/int(votesList[x])) + \"%)\")\n",
    "    print(\"-------------------------\")\n",
    "    print(\"Winner: \" + electionWinner)\n",
    "    print(\"-------------------------\")"
   ]
  },
  {
   "cell_type": "code",
   "execution_count": null,
   "metadata": {},
   "outputs": [],
   "source": []
  },
  {
   "cell_type": "code",
   "execution_count": null,
   "metadata": {},
   "outputs": [],
   "source": [
    "#output statements\n",
    "print(\"Election Results\")\n",
    "print(\"-------------------------\")\n",
    "print(\"Total Votes: \" + str(totalVotes))\n",
    "print(\"Total: \" + str(totalRevenue))\n",
    "print(\"-------------------------\")\n",
    "\n",
    "print(\"-------------------------\")\n",
    "print(\"Winner: \" + electionWinner)\n",
    "print(\"-------------------------\")"
   ]
  },
  {
   "cell_type": "code",
   "execution_count": null,
   "metadata": {},
   "outputs": [],
   "source": [
    "#defining output name/location\n",
    "output_path = os.path.join(os.getcwd(), \"output\", \"results.txt\")\n",
    "\n",
    "#using CSV module to write file\n",
    "with open(output_path, 'w', newline='') as csvfile:\n",
    "    csvwriter = csv.writer(csvfile, delimiter=',')\n",
    "    csvwriter.writerow([\"Election Results\"])\n",
    "    csvwriter.writerow([\"-------------------------\"])\n",
    "    csvwriter.writerow([\"Total Votes: \" + str(totalVotes)])\n",
    "    csvwriter.writerow([\"-------------------------\"])\n",
    "    \n",
    "    csvwriter.writerow([\"-------------------------\"])\n",
    "    csvwriter.writerow([\"Winner: \" + electionWinner])\n",
    "    csvwriter.writerow([\"-------------------------\"])"
   ]
  },
  {
   "cell_type": "code",
   "execution_count": null,
   "metadata": {},
   "outputs": [],
   "source": []
  },
  {
   "cell_type": "code",
   "execution_count": null,
   "metadata": {},
   "outputs": [],
   "source": []
  }
 ],
 "metadata": {
  "kernelspec": {
   "display_name": "Python 3",
   "language": "python",
   "name": "python3"
  },
  "language_info": {
   "codemirror_mode": {
    "name": "ipython",
    "version": 3
   },
   "file_extension": ".py",
   "mimetype": "text/x-python",
   "name": "python",
   "nbconvert_exporter": "python",
   "pygments_lexer": "ipython3",
   "version": "3.7.0"
  }
 },
 "nbformat": 4,
 "nbformat_minor": 2
}
