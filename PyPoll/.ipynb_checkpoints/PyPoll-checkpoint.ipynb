{
 "cells": [
  {
   "cell_type": "code",
   "execution_count": 13,
   "metadata": {},
   "outputs": [],
   "source": [
    "#importing necessary libraries\n",
    "import os\n",
    "import pandas as pd"
   ]
  },
  {
   "cell_type": "code",
   "execution_count": 14,
   "metadata": {},
   "outputs": [],
   "source": [
    "#specifying file location\n",
    "file = \"Resources/election_data.csv\"\n",
    "#reading CSV into pandas dataframe\n",
    "df = pd.read_csv(file)\n",
    "\n",
    "#note: ONLY works for cleaned datasets where candidate and vote lists are indexed together\n",
    "#getting list of candidates\n",
    "candidateNames = df['Candidate'].value_counts().keys().tolist()\n",
    "#getting list of corresponding votes\n",
    "voteCounts = df['Candidate'].value_counts().tolist()\n",
    "#getting total vote count\n",
    "totalVotes = sum(voteCounts)\n",
    "#getting list of vote percentages\n",
    "votePercentages = [x / totalVotes for x in voteCounts]\n",
    "#getting biggest vote count\n",
    "mostVotes = max(voteCounts)\n",
    "#determining election winner\n",
    "electionWinner = candidateNames[voteCounts.index(mostVotes)]\n",
    "#initializing output list\n",
    "outputList = []\n",
    "#filling output list\n",
    "for x in range(len(candidateNames)):\n",
    "    outputList.append(candidateNames[x] + \" received \" +\n",
    "        str(voteCounts[x]) + \" votes. (\" +\n",
    "        str(round(100*(votePercentages[x]), 3)) + \"%)\")"
   ]
  },
  {
   "cell_type": "code",
   "execution_count": 23,
   "metadata": {},
   "outputs": [
    {
     "name": "stdout",
     "output_type": "stream",
     "text": [
      "Election Results\n",
      "-------------------------\n",
      "Total Votes: 3521001\n",
      "-------------------------\n",
      "Khan received 2218231 votes. (63.0%)\n",
      "Correy received 704200 votes. (20.0%)\n",
      "Li received 492940 votes. (14.0%)\n",
      "O'Tooley received 105630 votes. (3.0%)\n",
      "-------------------------\n",
      "Winner: Khan\n",
      "-------------------------\n"
     ]
    }
   ],
   "source": [
    "#output statements\n",
    "print(\"Election Results\")\n",
    "print(\"-------------------------\")\n",
    "print(\"Total Votes: \" + str(totalVotes))\n",
    "print(\"-------------------------\")\n",
    "for x in range(len(outputList)):\n",
    "    print(outputList[x])\n",
    "print(\"-------------------------\")\n",
    "print(\"Winner: \" + electionWinner)\n",
    "print(\"-------------------------\")\n",
    " \n",
    "#defining output name/location\n",
    "output_path = os.path.join(os.getcwd(), \"output\", \"results.txt\")\n",
    " \n",
    "#using CSV module to write file\n",
    "with open(output_path, 'w', newline='') as csvfile:\n",
    "    csvwriter = csv.writer(csvfile, delimiter=',')\n",
    "    csvwriter.writerow([\"Election Results\"])\n",
    "    csvwriter.writerow([\"-------------------------\"])\n",
    "    csvwriter.writerow([\"Total Votes: \" + str(totalVotes)])\n",
    "    csvwriter.writerow([\"-------------------------\"])\n",
    "    for x in range(len(candidateNames)):\n",
    "        csvwriter.writerow([outputList[x]])\n",
    "    csvwriter.writerow([\"-------------------------\"])\n",
    "    csvwriter.writerow([\"Winner: \" + electionWinner])\n",
    "    csvwriter.writerow([\"-------------------------\"])"
   ]
  },
  {
   "cell_type": "code",
   "execution_count": 76,
   "metadata": {},
   "outputs": [],
   "source": []
  },
  {
   "cell_type": "code",
   "execution_count": null,
   "metadata": {},
   "outputs": [],
   "source": []
  }
 ],
 "metadata": {
  "kernelspec": {
   "display_name": "Python 3",
   "language": "python",
   "name": "python3"
  },
  "language_info": {
   "codemirror_mode": {
    "name": "ipython",
    "version": 3
   },
   "file_extension": ".py",
   "mimetype": "text/x-python",
   "name": "python",
   "nbconvert_exporter": "python",
   "pygments_lexer": "ipython3",
   "version": "3.7.0"
  }
 },
 "nbformat": 4,
 "nbformat_minor": 2
}
