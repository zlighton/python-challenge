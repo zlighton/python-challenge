{
 "cells": [
  {
   "cell_type": "code",
   "execution_count": 1,
   "metadata": {},
   "outputs": [],
   "source": [
    "#importing necessary libraries\n",
    "import os\n",
    "import csv"
   ]
  },
  {
   "cell_type": "code",
   "execution_count": 2,
   "metadata": {},
   "outputs": [
    {
     "name": "stdout",
     "output_type": "stream",
     "text": [
      "<_csv.reader object at 0x000001E040726938>\n",
      "CSV Header: ['Voter ID', 'County', 'Candidate']\n",
      "Election Results\n",
      "-------------------------\n",
      "Total Votes: 123\n",
      "-------------------------\n",
      "Khan received 12 votes. (10.25%)\n",
      "Correy received 9 votes. (13.666666666666666%)\n",
      "Khan received 11 votes. (11.181818181818182%)\n",
      "Khan received 10 votes. (12.3%)\n",
      "Khan received 9 votes. (13.666666666666666%)\n",
      "Li received 2 votes. (61.5%)\n",
      "Correy received 8 votes. (15.375%)\n",
      "Khan received 8 votes. (15.375%)\n",
      "Khan received 7 votes. (17.571428571428573%)\n",
      "Correy received 7 votes. (17.571428571428573%)\n",
      "Khan received 6 votes. (20.5%)\n",
      "Correy received 6 votes. (20.5%)\n",
      "Khan received 5 votes. (24.6%)\n",
      "Khan received 4 votes. (30.75%)\n",
      "Correy received 5 votes. (24.6%)\n",
      "Khan received 3 votes. (41.0%)\n",
      "Correy received 4 votes. (30.75%)\n",
      "Correy received 3 votes. (41.0%)\n",
      "Khan received 2 votes. (61.5%)\n",
      "-------------------------\n",
      "Winner: \n",
      "-------------------------\n"
     ]
    }
   ],
   "source": [
    "#defining file input name/location\n",
    "csvpath = os.path.join('Resources', 'election_data_small.csv')\n",
    "#using CSV module to read file\n",
    "with open(csvpath, newline='') as csvfile:\n",
    "    csvreader = csv.reader(csvfile, delimiter=',')\n",
    "    print(csvreader)\n",
    "    csv_header = next(csvreader)\n",
    "    print(f\"CSV Header: {csv_header}\")\n",
    "    \n",
    "    #defining and initializing variables\n",
    "    totalVotes = 0\n",
    "    electionWinner = \"\"\n",
    "    candidatesList = [\"\"]\n",
    "    votesList = [0]\n",
    "\n",
    "    for row in csvreader:\n",
    "        for x in range(len(candidatesList) + 1):\n",
    "            if x == len(candidatesList):\n",
    "                candidatesList.append(row[2])\n",
    "                votesList.append(1)\n",
    "                totalVotes = (totalVotes + 1)\n",
    "                \n",
    "        for x in range(len(candidatesList)):\n",
    "            if row[2] == candidatesList[x]: \n",
    "                votesList[x] = (votesList[x]) + 1\n",
    "                totalVotes = (totalVotes + 1)\n",
    "\n",
    "    del candidatesList[0]\n",
    "    del votesList[0]\n",
    "    \n",
    "    #output statements\n",
    "    print(\"Election Results\")\n",
    "    print(\"-------------------------\")\n",
    "    print(\"Total Votes: \" + str(totalVotes))\n",
    "    print(\"-------------------------\")\n",
    "    for x in range(len(candidatesList) - 1):\n",
    "        print(str(candidatesList[x]) + \" received \" + str(votesList[x]) + \" votes. (\" + str(totalVotes/int(votesList[x])) + \"%)\")\n",
    "    print(\"-------------------------\")\n",
    "    print(\"Winner: \" + electionWinner)\n",
    "    print(\"-------------------------\")"
   ]
  },
  {
   "cell_type": "code",
   "execution_count": null,
   "metadata": {},
   "outputs": [],
   "source": [
    "#defining output name/location\n",
    "output_path = os.path.join(os.getcwd(), \"output\", \"results.txt\")\n",
    "\n",
    "#using CSV module to write file\n",
    "with open(output_path, 'w', newline='') as csvfile:\n",
    "    csvwriter = csv.writer(csvfile, delimiter=',')\n",
    "    csvwriter.writerow([\"Election Results\"])\n",
    "    csvwriter.writerow([\"-------------------------\"])\n",
    "    csvwriter.writerow([\"Total Votes: \" + str(totalVotes)])\n",
    "    csvwriter.writerow([\"-------------------------\"])\n",
    "    \n",
    "    csvwriter.writerow([\"-------------------------\"])\n",
    "    csvwriter.writerow([\"Winner: \" + electionWinner])\n",
    "    csvwriter.writerow([\"-------------------------\"])"
   ]
  },
  {
   "cell_type": "code",
   "execution_count": null,
   "metadata": {},
   "outputs": [],
   "source": []
  }
 ],
 "metadata": {
  "kernelspec": {
   "display_name": "Python 3",
   "language": "python",
   "name": "python3"
  },
  "language_info": {
   "codemirror_mode": {
    "name": "ipython",
    "version": 3
   },
   "file_extension": ".py",
   "mimetype": "text/x-python",
   "name": "python",
   "nbconvert_exporter": "python",
   "pygments_lexer": "ipython3",
   "version": "3.7.0"
  }
 },
 "nbformat": 4,
 "nbformat_minor": 2
}
